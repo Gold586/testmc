{
  "cells": [
    {
      "cell_type": "code",
      "execution_count": 5,
      "metadata": {},
      "outputs": [
        {
          "name": "stdout",
          "output_type": "stream",
          "text": [
            "ZeroTier One service started successfully.\n"
          ]
        },
        {
          "name": "stderr",
          "output_type": "stream",
          "text": [
            "/usr/sbin/zerotier-one: fatal error: cannot bind to local control interface port 9993\n"
          ]
        }
      ],
      "source": [
        "import os\n",
        "\n",
        "# Command to start ZeroTier One\n",
        "command = \"sudo /usr/sbin/zerotier-one\"\n",
        "\n",
        "# Execute the command\n",
        "os.system(command)\n",
        "\n",
        "# Example of some further Python code that could run afterward\n",
        "print(\"ZeroTier One service started successfully.\")\n"
      ]
    },
    {
      "cell_type": "code",
      "execution_count": null,
      "metadata": {
        "id": "Y8EQcR98iO74"
      },
      "outputs": [],
      "source": [
        "import subprocess\n",
        "\n",
        "command = [\"java\", \"-Xms12G\", \"-Xmx12G\", \"-jar\", \"paper.jar\", \"--nogui\"]\n",
        "subprocess.run(command)"
      ]
    }
  ],
  "metadata": {
    "colab": {
      "name": "Welcome To Colab",
      "provenance": [],
      "toc_visible": true
    },
    "kernelspec": {
      "display_name": "Python 3",
      "name": "python3"
    },
    "language_info": {
      "codemirror_mode": {
        "name": "ipython",
        "version": 3
      },
      "file_extension": ".py",
      "mimetype": "text/x-python",
      "name": "python",
      "nbconvert_exporter": "python",
      "pygments_lexer": "ipython3",
      "version": "3.12.1"
    }
  },
  "nbformat": 4,
  "nbformat_minor": 0
}
